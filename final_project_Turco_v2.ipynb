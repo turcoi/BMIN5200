{
 "cells": [
  {
   "cell_type": "markdown",
   "metadata": {},
   "source": [
    "### BMIN 5200 Foundations of Artificial Intelligence in Health\n",
    "\n",
    "### Final Project: Expert System in Epilepsy\n",
    "\n",
    "Isabella Turco"
   ]
  },
  {
   "cell_type": "code",
   "execution_count": 173,
   "metadata": {},
   "outputs": [],
   "source": [
    "import clips\n",
    "import sys\n",
    "import logging \n",
    "sys.path.append('./src/')\n",
    "from clips_util import print_facts, print_rules, print_templates, build_read_assert\n",
    "\n",
    "logging.basicConfig(level=10, format='%(message)s')\n",
    "\n",
    "# create the CLIPS environment \n",
    "env = clips.Environment()\n",
    "\n",
    "router = clips.LoggingRouter()\n",
    "env.add_router(router)"
   ]
  },
  {
   "cell_type": "markdown",
   "metadata": {},
   "source": [
    "## Expert System for Temporal Lobe Epilepsy Lateralization"
   ]
  },
  {
   "cell_type": "markdown",
   "metadata": {},
   "source": [
    "### Templates (deftemplate) - form that facts can take"
   ]
  },
  {
   "cell_type": "code",
   "execution_count": 174,
   "metadata": {},
   "outputs": [],
   "source": [
    "# glucest values \n",
    "DEFTEMPLATE_GLUCEST_VALUES = \"\"\"\n",
    "(deftemplate glucest_values\n",
    "    (slot hippocampus_right (type FLOAT))\n",
    "    (slot hippocampus_left (type FLOAT))\n",
    "    (slot ca1_right (type FLOAT))\n",
    "    (slot ca1_left (type FLOAT))\n",
    "    (slot dentategyrus_right (type FLOAT))\n",
    "    (slot dentategyrus_left (type FLOAT))\n",
    "    (slot subiculum_right (type FLOAT))\n",
    "    (slot subiculum_left (type FLOAT))\n",
    ")\n",
    "\"\"\"\n",
    "env.build(DEFTEMPLATE_GLUCEST_VALUES)\n",
    "\n",
    "# asymmetry indices \n",
    "DEFTEMPLATE_GLUCEST_ASYMMETRY_VALUES = \"\"\"\n",
    "(deftemplate glucest_asymmetry_values\n",
    "    (slot hippocampus (type FLOAT))\n",
    "    (slot ca1 (type FLOAT))\n",
    "    (slot dentategyrus (type FLOAT))\n",
    "    (slot subiculum (type FLOAT))\n",
    ")\n",
    "\"\"\"\n",
    "env.build(DEFTEMPLATE_GLUCEST_ASYMMETRY_VALUES)\n",
    "\n",
    "DEFTEMPLATE_THRESHOLD = \"\"\" \n",
    "(deftemplate threshold\n",
    "    (slot threshold_value (type FLOAT))\n",
    ")\n",
    "\"\"\"\n",
    "env.build(DEFTEMPLATE_THRESHOLD)\n",
    "\n",
    "# lateralization \n",
    "DEFTEMPLATE_GLUCEST_LATERALIZATION = \"\"\"\n",
    "(deftemplate glucest_lateralization\n",
    "    (slot hippocampus (type SYMBOL)\n",
    "        (allowed-symbols right left unclear))\n",
    "    (slot ca1 (type SYMBOL)\n",
    "        (allowed-symbols right left unclear))\n",
    "    (slot dentate_gyrus (type SYMBOL)\n",
    "        (allowed-symbols right left unclear))\n",
    "    (slot subiculum (type SYMBOL)\n",
    "        (allowed-symbols right left unclear))       \n",
    "    )\n",
    "\"\"\"\n",
    "env.build(DEFTEMPLATE_GLUCEST_LATERALIZATION)\n",
    "\n",
    "DEFTEMPLATE_LATERALIZATION_DIAGNOSIS = \"\"\"\n",
    "(deftemplate lateralization_diagnosis\n",
    "    (slot diagnosis (type SYMBOL)\n",
    "        (allowed-symbols right left mixed-right mixed-left bilateral unclear))\n",
    ")\n",
    "\"\"\"\n",
    "env.build(DEFTEMPLATE_LATERALIZATION_DIAGNOSIS)"
   ]
  },
  {
   "cell_type": "markdown",
   "metadata": {},
   "source": [
    "### Initialize Knowledge Base (deffacts) - create facts"
   ]
  },
  {
   "cell_type": "code",
   "execution_count": 175,
   "metadata": {},
   "outputs": [],
   "source": [
    "# Add deffacts that the ultimate outputs are all unknown \n",
    "DEFFACTS_INITIAL_DIAGNOSIS = \"\"\"\n",
    "(deffacts initial_diagnosis_status \"Set the initial diagnosis to unknown\"\n",
    "    (lateralization_diagnosis (diagnosis unclear))\n",
    ")\n",
    "\"\"\"\n",
    "env.build(DEFFACTS_INITIAL_DIAGNOSIS)\n",
    "\n",
    "DEFFACTS_THRESHOLD_DEFAULT = \"\"\"\n",
    "(deffacts threshold_default \"Set the threshold to the default value of 0.25\"\n",
    "    (threshold (threshold_value 0.25))\n",
    ")\n",
    "\"\"\"\n",
    "env.build(DEFFACTS_THRESHOLD_DEFAULT)\n",
    "\n",
    "# reset the environment to make sure the deffacts are added\n",
    "env.reset()"
   ]
  },
  {
   "cell_type": "markdown",
   "metadata": {},
   "source": [
    "### Define Rules (defrule) - add facts to knowledge base if they meet certain criteria"
   ]
  },
  {
   "cell_type": "code",
   "execution_count": 176,
   "metadata": {},
   "outputs": [],
   "source": [
    "# calculate asymmetry indices by subtracting left from right values \n",
    "DEFRULE_CALCULATE_GLUCEST_ASYMMETRY = \"\"\"\n",
    "(defrule calculate_glucest_asymmetry\n",
    "    (glucest_values \n",
    "        (hippocampus_right ?hc_r) \n",
    "        (hippocampus_left ?hc_l)\n",
    "        (ca1_right ?ca1_r) \n",
    "        (ca1_left ?ca1_l)\n",
    "        (dentategyrus_right ?dg_r) \n",
    "        (dentategyrus_left ?dg_l)\n",
    "        (subiculum_right ?sub_r) \n",
    "        (subiculum_left ?sub_l))\n",
    "=>\n",
    "    (assert (glucest_asymmetry_values \n",
    "        (hippocampus (- ?hc_r ?hc_l))\n",
    "        (ca1 (- ?ca1_r ?ca1_l))\n",
    "        (dentategyrus (- ?dg_r ?dg_l))\n",
    "        (subiculum (- ?sub_r ?sub_l))\n",
    "    ))\n",
    ")\n",
    "\"\"\"\n",
    "env.build(DEFRULE_CALCULATE_GLUCEST_ASYMMETRY)\n",
    "\n",
    "# determine if each asymmetry index indicates right or left seizure onset zonet \n",
    "DEFRULE_CONVERT_ASYMMETRY_TO_LATERALITY = \"\"\"\n",
    "(defrule convert_asymmetry_to_laterality\n",
    "    (glucest_asymmetry_values \n",
    "        (hippocampus ?hc_asym)\n",
    "        (ca1 ?ca1_asym)\n",
    "        (dentategyrus ?dg_asym)\n",
    "        (subiculum ?sub_asym))\n",
    "    (threshold\n",
    "        (threshold_value ?thr))\n",
    "=>\n",
    "    (assert (glucest_lateralization\n",
    "        (hippocampus (if (> ?hc_asym ?thr) then right else \n",
    "                     (if (< ?hc_asym (- 0 ?thr)) then left else unclear)))\n",
    "        (ca1 (if (> ?ca1_asym ?thr) then right else \n",
    "              (if (< ?ca1_asym (- 0 ?thr)) then left else unclear)))\n",
    "        (dentate_gyrus (if (> ?dg_asym ?thr) then right else \n",
    "                        (if (< ?dg_asym (- 0 ?thr)) then left else unclear)))\n",
    "        (subiculum (if (> ?sub_asym ?thr) then right else \n",
    "                    (if (< ?sub_asym (- 0 ?thr)) then left else unclear)))\n",
    "    ))\n",
    ")\n",
    "\"\"\"\n",
    "env.build(DEFRULE_CONVERT_ASYMMETRY_TO_LATERALITY)"
   ]
  },
  {
   "cell_type": "code",
   "execution_count": 177,
   "metadata": {},
   "outputs": [],
   "source": [
    "DEFRULE_REPORT_LATERALITY_RIGHT = \"\"\"\n",
    "(defrule report_laterality_right\n",
    "    (glucest_lateralization (hippocampus right))\n",
    "    (glucest_lateralization (ca1 right))\n",
    "    (glucest_lateralization (dentate_gyrus right))\n",
    "    (glucest_lateralization (subiculum right))\n",
    "\n",
    "    ?f1 <-(lateralization_diagnosis (diagnosis unclear))\n",
    "    =>\n",
    "    (modify ?f1 (diagnosis right))\n",
    "\n",
    "    (println \"___________\")\n",
    "    (println \"All GluCEST values indicate right lateralization.\")\n",
    "    (println \"___________\")\n",
    ")\n",
    "\"\"\"\n",
    "env.build(DEFRULE_REPORT_LATERALITY_RIGHT)\n",
    "\n",
    "DEFRULE_REPORT_LATERALITY_LEFT = \"\"\"\n",
    "(defrule report_laterality_left\n",
    "    (glucest_lateralization (hippocampus left))\n",
    "    (glucest_lateralization (ca1 left))\n",
    "    (glucest_lateralization (dentate_gyrus left))\n",
    "    (glucest_lateralization (subiculum left))\n",
    "\n",
    "    ?f1 <-(lateralization_diagnosis (diagnosis unclear))\n",
    "    =>\n",
    "    (modify ?f1 (diagnosis left))\n",
    "\n",
    "    (println \"___________\")\n",
    "    (println \"All GluCEST values indicate left lateralization.\")\n",
    "    (println \"___________\")\n",
    ")\n",
    "\"\"\"\n",
    "env.build(DEFRULE_REPORT_LATERALITY_LEFT)\n",
    "\n",
    "DEFRULE_REPORT_LATERALITY_MIXED_RIGHT = \"\"\"\n",
    "(defrule report_laterality_mixed_right\n",
    "    (glucest_lateralization (hippocampus right))\n",
    "\n",
    "    (glucest_lateralization (ca1 ?ca1_lateralization))\n",
    "    (glucest_lateralization (dentate_gyrus ?dg_lateralization))\n",
    "    (glucest_lateralization (subiculum ?sub_lateralization))\n",
    "\n",
    "    (test (or (neq ?ca1_lateralization ?dg_lateralization)\n",
    "              (neq ?ca1_lateralization ?sub_lateralization)\n",
    "              (neq ?dg_lateralization ?sub_lateralization)))\n",
    "\n",
    "    ?f1 <-(lateralization_diagnosis (diagnosis unclear))\n",
    "    =>\n",
    "    (modify ?f1 (diagnosis mixed-right))\n",
    "\n",
    "    (println \"___________\")\n",
    "    (println\"GluCEST values reported mixed lateralization results among the subfields, but overall the hippocampus indicates right lateralization.\")\n",
    "    (println \"___________\")\n",
    ")\n",
    "\"\"\"\n",
    "env.build(DEFRULE_REPORT_LATERALITY_MIXED_RIGHT)\n",
    "\n",
    "DEFRULE_REPORT_LATERALITY_MIXED_LEFT = \"\"\"\n",
    "(defrule report_laterality_mixed_left\n",
    "    (glucest_lateralization (hippocampus left))\n",
    "\n",
    "    (glucest_lateralization (ca1 ?ca1_lateralization))\n",
    "    (glucest_lateralization (dentate_gyrus ?dg_lateralization))\n",
    "    (glucest_lateralization (subiculum ?sub_lateralization))\n",
    "\n",
    "    (test (or (neq ?ca1_lateralization ?dg_lateralization)\n",
    "              (neq ?ca1_lateralization ?sub_lateralization)\n",
    "              (neq ?dg_lateralization ?sub_lateralization)))\n",
    "\n",
    "    ?f1 <-(lateralization_diagnosis (diagnosis unclear))\n",
    "    =>\n",
    "    (modify ?f1 (diagnosis mixed-left))\n",
    "\n",
    "    (println \"___________\")\n",
    "    (println\"GluCEST values reported mixed lateralization results among the subfields, but overall the hippocampus indicates left lateralization.\")\n",
    "    (println \"___________\")\n",
    ")\n",
    "\"\"\"\n",
    "env.build(DEFRULE_REPORT_LATERALITY_MIXED_LEFT)\n",
    "\n",
    "DEFRULE_REPORT_LATERALITY_BILATERAL = \"\"\"\n",
    "(defrule report_laterality_bilateral\n",
    "    (declare (salience 1))\n",
    "    (glucest_asymmetry_values \n",
    "        (hippocampus ?hc_asym)\n",
    "        (ca1 ?ca1_asym)\n",
    "        (dentategyrus ?dg_asym)\n",
    "        (subiculum ?sub_asym))\n",
    "\n",
    "    (test (and (>= ?hc_asym -0.05) (<= ?hc_asym 0.05)))\n",
    "    (test (and (>= ?ca1_asym -0.05) (<= ?ca1_asym 0.05)))\n",
    "    (test (and (>= ?dg_asym -0.05) (<= ?dg_asym 0.05)))\n",
    "    (test (and (>= ?sub_asym -0.05) (<= ?sub_asym 0.05)))\n",
    "\n",
    "    ?f <- (lateralization_diagnosis (diagnosis unclear))\n",
    "    => \n",
    "    (modify ?f (diagnosis bilateral))\n",
    "\n",
    "    (println \"___________\")\n",
    "    (println \"All GluCEST values indicate bilateral involvement or no clear lateralization.\")\n",
    "    (println \"___________\")\n",
    ")\n",
    "\"\"\"\n",
    "env.build((DEFRULE_REPORT_LATERALITY_BILATERAL))\n",
    "\n",
    "DEFRULE_REPORT_LATERALITY_UNCLEAR = \"\"\"\n",
    "(defrule report_laterality_unclear\n",
    "    (declare (salience 0))\n",
    "    (glucest_lateralization (hippocampus unclear))\n",
    "    (glucest_lateralization (ca1 unclear))\n",
    "    (glucest_lateralization (dentate_gyrus unclear))\n",
    "    (glucest_lateralization (subiculum unclear))\n",
    "    (not (lateralization_diagnosis (diagnosis bilateral)))\n",
    "\n",
    "    ; ?f1 <-(lateralization_diagnosis (diagnosis unclear))\n",
    "    =>\n",
    "    ; (modify ?f1 (diagnosis unclear))\n",
    "\n",
    "    (println \"___________\")\n",
    "    (println \"GluCEST values reported unclear results, potentially indicating bilaterality or more complex pathology. Refer patient for more testing.\")\n",
    "    (println \"___________\")\n",
    ")\n",
    "\"\"\"\n",
    "env.build(DEFRULE_REPORT_LATERALITY_UNCLEAR)"
   ]
  },
  {
   "cell_type": "markdown",
   "metadata": {},
   "source": [
    "### Execution"
   ]
  },
  {
   "cell_type": "markdown",
   "metadata": {},
   "source": [
    "#### Example 1: Patient with Right Temporal Lobe Epilepsy"
   ]
  },
  {
   "cell_type": "code",
   "execution_count": 178,
   "metadata": {},
   "outputs": [
    {
     "name": "stderr",
     "output_type": "stream",
     "text": [
      "___________\n",
      "All GluCEST values indicate right lateralization.\n",
      "___________\n"
     ]
    }
   ],
   "source": [
    "env.reset();\n",
    "# load gluCEST values (units: percentage contrast) extracted from a 3D gluCEST scan\n",
    "env.assert_string(\"\"\"\n",
    "    (glucest_values \n",
    "        (hippocampus_right 7.15)\n",
    "        (hippocampus_left 6.57)\n",
    "        (ca1_right 7.12)\n",
    "        (ca1_left 6.76)\n",
    "        (dentategyrus_right 7.81)\n",
    "        (dentategyrus_left 6.48)\n",
    "        (subiculum_right 6.00)\n",
    "        (subiculum_left 5.52)\n",
    "    )\n",
    "    ; choose any percentage threshold for categorizing asymmetry indices to laterality \n",
    "    (threshold\n",
    "        (threshold_value 0.25)\n",
    "    )\n",
    "\"\"\")\n",
    "env.run();\n",
    "\n",
    "# print_facts(env)"
   ]
  },
  {
   "cell_type": "markdown",
   "metadata": {},
   "source": [
    "#### Example 2: Patient with Mixed Results but Right Temporal Lobe Epilepsy"
   ]
  },
  {
   "cell_type": "code",
   "execution_count": 179,
   "metadata": {},
   "outputs": [
    {
     "name": "stderr",
     "output_type": "stream",
     "text": [
      "___________\n",
      "GluCEST values reported mixed lateralization results among the subfields, but overall the hippocampus indicates right lateralization.\n",
      "___________\n"
     ]
    }
   ],
   "source": [
    "env.reset();\n",
    "# load gluCEST values (units: percentage contrast) extracted from a 3D gluCEST scan\n",
    "env.assert_string(\"\"\"\n",
    "    (glucest_values \n",
    "        (hippocampus_right 8.92)\n",
    "        (hippocampus_left 7.75)\n",
    "        (ca1_right 9.22)\n",
    "        (ca1_left 7.95)\n",
    "        (dentategyrus_right 8.41)\n",
    "        (dentategyrus_left 8.80)\n",
    "        (subiculum_right 7.04)\n",
    "        (subiculum_left 7.21)\n",
    "    )\n",
    "    ; choose any percentage threshold for categorizing asymmetry indices to laterality \n",
    "    (threshold\n",
    "        (threshold_value 0.25)\n",
    "    )\n",
    "\"\"\")\n",
    "env.run();\n",
    "\n",
    "# print_facts(env)"
   ]
  },
  {
   "cell_type": "markdown",
   "metadata": {},
   "source": [
    "### Example 3: Patient with Unclear Lateralization"
   ]
  },
  {
   "cell_type": "code",
   "execution_count": 180,
   "metadata": {},
   "outputs": [
    {
     "name": "stderr",
     "output_type": "stream",
     "text": [
      "___________\n",
      "GluCEST values reported unclear results, potentially indicating bilaterality or more complex pathology. Refer patient for more testing.\n",
      "___________\n"
     ]
    }
   ],
   "source": [
    "env.reset();\n",
    "# load gluCEST values (units: percentage contrast) extracted from a 3D gluCEST scan\n",
    "env.assert_string(\"\"\"\n",
    "    (glucest_values \n",
    "        (hippocampus_right 7.72)\n",
    "        (hippocampus_left 7.83)\n",
    "        (ca1_right 7.04)\n",
    "        (ca1_left 7.13)\n",
    "        (dentategyrus_right 7.98)\n",
    "        (dentategyrus_left 8.15)\n",
    "        (subiculum_right 7.01)\n",
    "        (subiculum_left 6.89)\n",
    "    )\n",
    "    ; choose any percentage threshold for categorizing asymmetry indices to laterality \n",
    "    (threshold\n",
    "        (threshold_value 0.25)\n",
    "    )\n",
    "\"\"\")\n",
    "env.run();\n",
    "\n",
    "# print_facts(env)"
   ]
  },
  {
   "cell_type": "markdown",
   "metadata": {},
   "source": [
    "### Example 4: Patient with Bilaterality"
   ]
  },
  {
   "cell_type": "code",
   "execution_count": 181,
   "metadata": {},
   "outputs": [
    {
     "name": "stderr",
     "output_type": "stream",
     "text": [
      "___________\n",
      "All GluCEST values indicate bilateral involvement or no clear lateralization.\n",
      "___________\n"
     ]
    }
   ],
   "source": [
    "env.reset();\n",
    "# load gluCEST values (units: percentage contrast) extracted from a 3D gluCEST scan\n",
    "env.assert_string(\"\"\"\n",
    "    (glucest_values \n",
    "        (hippocampus_right 9.12)\n",
    "        (hippocampus_left 9.09)\n",
    "        (ca1_right 8.67)\n",
    "        (ca1_left 8.68)\n",
    "        (dentategyrus_right 8.92)\n",
    "        (dentategyrus_left 8.96)\n",
    "        (subiculum_right 9.20)\n",
    "        (subiculum_left 9.16)\n",
    "    )\n",
    "    ; choose any percentage threshold for categorizing asymmetry indices to laterality \n",
    "    (threshold\n",
    "        (threshold_value 0.25)\n",
    "    )\n",
    "\"\"\")\n",
    "env.run();\n",
    "\n",
    "# print_facts(env)"
   ]
  },
  {
   "cell_type": "markdown",
   "metadata": {},
   "source": [
    "## Ablation Analysis"
   ]
  },
  {
   "cell_type": "code",
   "execution_count": 182,
   "metadata": {},
   "outputs": [],
   "source": [
    "def ablation_analysis_results(env):\n",
    "    diagnoses = []\n",
    "    for fact in env.facts():\n",
    "        if fact.template.name == \"lateralization_diagnosis\":\n",
    "            diagnoses.append(fact[\"diagnosis\"])\n",
    "    \n",
    "    if not diagnoses:\n",
    "        print(\"No lateralization diagnosis found.\")\n",
    "    return diagnoses"
   ]
  },
  {
   "cell_type": "code",
   "execution_count": 183,
   "metadata": {},
   "outputs": [
    {
     "name": "stdout",
     "output_type": "stream",
     "text": [
      "{'calculate_glucest_asymmetry': ['unclear'], 'convert_asymmetry_to_laterality': ['unclear'], 'report_laterality_right': ['unclear'], 'report_laterality_left': ['unclear'], 'report_laterality_mixed_right': ['unclear'], 'report_laterality_mixed_left': ['unclear'], 'report_laterality_unclear': ['unclear']}\n"
     ]
    }
   ],
   "source": [
    "# test with example 1 \n",
    "rules = [\"calculate_glucest_asymmetry\", \"convert_asymmetry_to_laterality\", \"report_laterality_right\", \"report_laterality_left\", \"report_laterality_mixed_right\", \"report_laterality_mixed_left\", \"report_laterality_unclear\"]\n",
    "results = {}\n",
    "for rule in rules:\n",
    "    env.reset()\n",
    "    env.eval(f'(undefrule {rule})')\n",
    "    env.assert_string(\"\"\"\n",
    "    (glucest_values \n",
    "        (hippocampus_right 7.15)\n",
    "        (hippocampus_left 6.57)\n",
    "        (ca1_right 7.12)\n",
    "        (ca1_left 6.76)\n",
    "        (dentategyrus_right 7.81)\n",
    "        (dentategyrus_left 6.48)\n",
    "        (subiculum_right 6.00)\n",
    "        (subiculum_left 5.52)\n",
    "    )\n",
    "    \"\"\")\n",
    "    env.run()\n",
    "    results[rule] = ablation_analysis_results(env)\n",
    "\n",
    "print(results) # it also prints out which rule is deactitvated and therefore unable to be found "
   ]
  },
  {
   "cell_type": "code",
   "execution_count": 184,
   "metadata": {},
   "outputs": [
    {
     "name": "stderr",
     "output_type": "stream",
     "text": [
      "[PRNTUTIL1] Unable to find defrule 'calculate_glucest_asymmetry'.\n",
      "[PRNTUTIL1] Unable to find defrule 'convert_asymmetry_to_laterality'.\n",
      "[PRNTUTIL1] Unable to find defrule 'report_laterality_right'.\n",
      "[PRNTUTIL1] Unable to find defrule 'report_laterality_left'.\n",
      "[PRNTUTIL1] Unable to find defrule 'report_laterality_mixed_right'.\n",
      "[PRNTUTIL1] Unable to find defrule 'report_laterality_mixed_left'.\n",
      "[PRNTUTIL1] Unable to find defrule 'report_laterality_unclear'.\n"
     ]
    },
    {
     "name": "stdout",
     "output_type": "stream",
     "text": [
      "{'calculate_glucest_asymmetry': ['unclear'], 'convert_asymmetry_to_laterality': ['unclear'], 'report_laterality_right': ['unclear'], 'report_laterality_left': ['unclear'], 'report_laterality_mixed_right': ['unclear'], 'report_laterality_mixed_left': ['unclear'], 'report_laterality_unclear': ['unclear']}\n"
     ]
    }
   ],
   "source": [
    "# test with example 2: mixed results but right lateralization \n",
    "rules = [\"calculate_glucest_asymmetry\", \"convert_asymmetry_to_laterality\", \"report_laterality_right\", \"report_laterality_left\", \"report_laterality_mixed_right\", \"report_laterality_mixed_left\", \"report_laterality_unclear\"]\n",
    "results = {}\n",
    "for rule in rules:\n",
    "    env.reset()\n",
    "    env.eval(f'(undefrule {rule})')\n",
    "    env.assert_string(\"\"\"\n",
    "    (glucest_values \n",
    "        (hippocampus_right 8.92)\n",
    "        (hippocampus_left 7.75)\n",
    "        (ca1_right 9.22)\n",
    "        (ca1_left 7.95)\n",
    "        (dentategyrus_right 8.41)\n",
    "        (dentategyrus_left 8.80)\n",
    "        (subiculum_right 7.04)\n",
    "        (subiculum_left 7.21)\n",
    "    )\n",
    "    \"\"\")\n",
    "    env.run()\n",
    "    results[rule] = ablation_analysis_results(env)\n",
    "\n",
    "print(results) # it also prints out which rule is deactitvated and therefore unable to be found "
   ]
  },
  {
   "cell_type": "code",
   "execution_count": 185,
   "metadata": {},
   "outputs": [
    {
     "name": "stderr",
     "output_type": "stream",
     "text": [
      "[PRNTUTIL1] Unable to find defrule 'calculate_glucest_asymmetry'.\n",
      "[PRNTUTIL1] Unable to find defrule 'convert_asymmetry_to_laterality'.\n",
      "[PRNTUTIL1] Unable to find defrule 'report_laterality_right'.\n",
      "[PRNTUTIL1] Unable to find defrule 'report_laterality_left'.\n",
      "[PRNTUTIL1] Unable to find defrule 'report_laterality_mixed_right'.\n",
      "[PRNTUTIL1] Unable to find defrule 'report_laterality_mixed_left'.\n",
      "[PRNTUTIL1] Unable to find defrule 'report_laterality_unclear'.\n"
     ]
    },
    {
     "name": "stdout",
     "output_type": "stream",
     "text": [
      "{'calculate_glucest_asymmetry': ['unclear'], 'convert_asymmetry_to_laterality': ['unclear'], 'report_laterality_right': ['unclear'], 'report_laterality_left': ['unclear'], 'report_laterality_mixed_right': ['unclear'], 'report_laterality_mixed_left': ['unclear'], 'report_laterality_unclear': ['unclear']}\n"
     ]
    }
   ],
   "source": [
    "# test with example 3: unclear lateralization/potentially bilateral temporal lobe epilepsy\n",
    "rules = [\"calculate_glucest_asymmetry\", \"convert_asymmetry_to_laterality\", \"report_laterality_right\", \"report_laterality_left\", \"report_laterality_mixed_right\", \"report_laterality_mixed_left\", \"report_laterality_unclear\"]\n",
    "results = {}\n",
    "for rule in rules:\n",
    "    env.reset()\n",
    "    env.eval(f'(undefrule {rule})')\n",
    "    env.assert_string(\"\"\"\n",
    "    (glucest_values \n",
    "        (hippocampus_right 7.15)\n",
    "        (hippocampus_left 6.57)\n",
    "        (ca1_right 7.12)\n",
    "        (ca1_left 6.76)\n",
    "        (dentategyrus_right 7.81)\n",
    "        (dentategyrus_left 6.48)\n",
    "        (subiculum_right 6.00)\n",
    "        (subiculum_left 5.52)\n",
    "    )\n",
    "    \"\"\")\n",
    "    env.run()\n",
    "    results[rule] = ablation_analysis_results(env)\n",
    "\n",
    "print(results) # it also prints out which rule is deactitvated and therefore unable to be found "
   ]
  }
 ],
 "metadata": {
  "kernelspec": {
   "display_name": "Python 3 (ipykernel)",
   "language": "python",
   "name": "python3"
  },
  "language_info": {
   "codemirror_mode": {
    "name": "ipython",
    "version": 3
   },
   "file_extension": ".py",
   "mimetype": "text/x-python",
   "name": "python",
   "nbconvert_exporter": "python",
   "pygments_lexer": "ipython3",
   "version": "3.11.8"
  }
 },
 "nbformat": 4,
 "nbformat_minor": 2
}
